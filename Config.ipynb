{
 "cells": [
  {
   "cell_type": "code",
   "execution_count": null,
   "metadata": {},
   "outputs": [],
   "source": [
    "# Análisis Exploratorio de Datos\n",
    "# https://github.com/carlosjimenez88M/EDA_Course\n",
    "\n",
    "# A continuación el listado de librerias Pytohn para instalar\n",
    "pip install pandas\n",
    "pip install numpy\n",
    "pip install matplotlib\n",
    "pip install seaborn\n",
    "pip install empiricaldist\n",
    "pip install missingno\n",
    "pip install sklearn\n",
    "pip install statsmodels\n",
    "pip install seaborn\n"
   ]
  },
  {
   "cell_type": "markdown",
   "metadata": {},
   "source": [
    "COMANDOS PARA SINCRONIZAR GIT\n",
    "\n",
    "# Torial \n",
    "https://shelllavie.com/sincronizar-repos-github-remoto-y-local/\n",
    "\n",
    "# Comandos básicos Git\n",
    "git init Creará un nuevo repositorio local GIT. Usando git init [nombre del proyecto] También puedes crear un repositorio dentro de un directorio especificando el nombre del proyecto.\n",
    "git clone Lo usas para clonar un repositorio.\n",
    "git add Lo usas para agregar archivos al área de de preparación.\n",
    "git commit Lo usas para crear un cambio que se guardará en el directorio git.\n",
    "git config Lo usas para establecer una configuración específica de usuario, podría ser el email, usuario o tipo de formato.\n",
    "git status Lo usas para que muestre la lista de archivos que has cambiado, junto con archivos que serán preparados y confirmados.\n",
    "git push Lo usas para enviar confirmaciones a la rama maestra/principal del repositorio remoto.\n",
    "git remote Nos permite ver todos los repositorios remotos.\n",
    "git checkout Nos permite crear ramas y navegar entre ellas.\n",
    "git pull Lo usas para fusionar todos los cambios que hiciste en el repositorio local con el directorio de trabajo local.\n",
    "\n",
    "# LOS MAS USADOS PARA SINCRONICAR, (primero ubicarse en la carpeta)\n",
    "git status\n",
    "git add .\n",
    "git commit -m \"De que se trata el ajuste\"\n",
    "git push origin master\n",
    "git pull (para continuar actualizando)"
   ]
  }
 ],
 "metadata": {
  "interpreter": {
   "hash": "b3ba2566441a7c06988d0923437866b63cedc61552a5af99d1f4fb67d367b25f"
  },
  "kernelspec": {
   "display_name": "Python 3.8.8 64-bit ('base': conda)",
   "language": "python",
   "name": "python3"
  },
  "language_info": {
   "codemirror_mode": {
    "name": "ipython",
    "version": 3
   },
   "file_extension": ".py",
   "mimetype": "text/x-python",
   "name": "python",
   "nbconvert_exporter": "python",
   "pygments_lexer": "ipython3",
   "version": "3.8.8"
  },
  "orig_nbformat": 4
 },
 "nbformat": 4,
 "nbformat_minor": 2
}
