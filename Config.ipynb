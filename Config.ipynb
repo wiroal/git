{
 "cells": [
  {
   "cell_type": "markdown",
   "metadata": {},
   "source": [
    "# ELEMENTOS BÁSICOS DE CONFIGURACIÓN GIT Y VISUAL CODE\n",
    "## Atajos básicos"
   ]
  },
  {
   "cell_type": "code",
   "execution_count": null,
   "metadata": {},
   "outputs": [],
   "source": [
    "# Análisis Exploratorio de Datos\n",
    "# https://github.com/carlosjimenez88M/EDA_Course\n",
    "\n",
    "# A continuación el listado de librerias Pytohn para instalar\n",
    "pip install pandas\n",
    "pip install numpy\n",
    "pip install matplotlib\n",
    "pip install seaborn\n",
    "pip install empiricaldist\n",
    "pip install missingno\n",
    "pip install sklearn\n",
    "pip install statsmodels\n",
    "pip install seaborn\n"
   ]
  },
  {
   "cell_type": "markdown",
   "metadata": {},
   "source": [
    "# Formateo texto Markdown <br>\n",
    "Manual completo: https://www.datacamp.com/community/tutorials/markdown-in-jupyter-notebook<br>\n",
    "\n",
    "- Cone el signo numeral # Encabezado 1; ## Encabezado , ### Encabezado 3 ...\n",
    "- Blockquotes Las citas en bloque pueden contener una gran parte del texto y generalmente tienen sangría. Se pueden obtener usando el símbolo de Markdown '>' o con <blockquote> texto para lockquote Esto es bueno <!blockquote> Esto es bueno </!blockquote>\n",
    "\n",
    "- Texto en negrita y cursiva Puede usar etiquetas <!b>, \n",
    "- '**' es decir, 'doble asterisco' o '__' es decir, 'doble subrayado' para obtener texto en negrita con la siguiente sintaxis.\n",
    "- < b> Este es texto en negrita </b>\n",
    "- ** Este es texto en negrita\n",
    "- __ Este es texto en negrita"
   ]
  },
  {
   "cell_type": "markdown",
   "metadata": {},
   "source": [
    "<h1>COMANDOS PARA SINCRONIZAR GIT</h1>\n",
    "\n",
    "# Tutorial git remoto \n",
    "https://shelllavie.com/sincronizar-repos-github-remoto-y-local/\n",
    "\n",
    "# Comandos básicos Git\n",
    "<b>git init</b> Creará un nuevo repositorio local GIT. Usando git init [nombre del proyecto] También puedes crear un repositorio dentro de un directorio especificando el nombre del proyecto.<br>\n",
    "<b>git clone</b> Lo usas para clonar un repositorio.<br>\n",
    "<b>git add</b> Lo usas para agregar archivos al área de de preparación.<br>\n",
    "<b>git commit</b> Lo usas para crear un cambio que se guardará en el directorio git.<br>\n",
    "<b>git config</b> Lo usas para establecer una configuración específica de usuario, podría ser el email, usuario o tipo de formato.<br>\n",
    "<b>git status</b> Lo usas para que muestre la lista de archivos que has cambiado, junto con archivos que serán preparados y confirmados.<br>\n",
    "<b>git push</b> Lo usas para enviar confirmaciones a la rama maestra/principal del repositorio remoto.<br>\n",
    "<b>git remote</b> Nos permite ver todos los repositorios remotos.<br>\n",
    "<b>git checkout</b> Nos permite crear ramas y navegar entre ellas.<br>\n",
    "<b>git pull</b> Lo usas para fusionar todos los cambios que hiciste en el repositorio local con el directorio de trabajo local.<br>\n",
    "\n",
    "# LOS MAS USADOS PARA SINCRONICAR, (primero ubicarse en la carpeta)\n",
    "git status<br>\n",
    "git add .<br>\n",
    "git commit -m \"De que se trata el ajuste\"<br>\n",
    "git push origin master<br>\n",
    "git pull (para continuar actualizando) <br>"
   ]
  },
  {
   "cell_type": "code",
   "execution_count": null,
   "metadata": {},
   "outputs": [],
   "source": [
    "pip install tensorflow"
   ]
  },
  {
   "cell_type": "code",
   "execution_count": 2,
   "metadata": {},
   "outputs": [],
   "source": [
    "import pandas as pd"
   ]
  },
  {
   "cell_type": "markdown",
   "metadata": {},
   "source": [
    "** El profesor recordó la tarea el domingo y admvirtió que la nota era 0 0 5 ... Hecho"
   ]
  }
 ],
 "metadata": {
  "interpreter": {
   "hash": "b3ba2566441a7c06988d0923437866b63cedc61552a5af99d1f4fb67d367b25f"
  },
  "kernelspec": {
   "display_name": "Python 3.8.8 64-bit ('base': conda)",
   "language": "python",
   "name": "python3"
  },
  "language_info": {
   "codemirror_mode": {
    "name": "ipython",
    "version": 3
   },
   "file_extension": ".py",
   "mimetype": "text/x-python",
   "name": "python",
   "nbconvert_exporter": "python",
   "pygments_lexer": "ipython3",
   "version": "3.8.8"
  },
  "orig_nbformat": 4
 },
 "nbformat": 4,
 "nbformat_minor": 2
}
