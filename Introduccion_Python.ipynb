{
 "cells": [
  {
   "cell_type": "markdown",
   "metadata": {},
   "source": [
    "## Introducción a Python\n",
    "### Ejercicios del 9 de noviembre de 2021 <br>\n",
    "Link: https://github.com/carlosjimenez88M/EDA_Course/blob/master/Notebooks/Intro_python.ipynb<br>\n",
    "Debido a una calamidad familiar del profesor, la clase fue aplazada<br>"
   ]
  },
  {
   "cell_type": "code",
   "execution_count": 1,
   "metadata": {},
   "outputs": [
    {
     "name": "stdout",
     "output_type": "stream",
     "text": [
      "De esta manera se imprime el peso 100\n",
      "De esta manera se imprime la altura 1.6\n"
     ]
    }
   ],
   "source": [
    "Peso = 100\n",
    "Altura = 1.60\n",
    "print('De esta manera se imprime el peso',Peso)\n",
    "print('De esta manera se imprime la altura',Altura)"
   ]
  },
  {
   "cell_type": "markdown",
   "metadata": {},
   "source": [
    "<h3>Haciendo uns calculos sencillos<h3>"
   ]
  },
  {
   "cell_type": "code",
   "execution_count": 2,
   "metadata": {},
   "outputs": [
    {
     "name": "stdout",
     "output_type": "stream",
     "text": [
      "Este es el caso del calculo IBM 39.06249999999999\n"
     ]
    }
   ],
   "source": [
    "## Modelando el caso anterior\n",
    "\n",
    "IBM = Peso/Altura**2\n",
    "print('Este es el caso del calculo IBM',IBM)"
   ]
  },
  {
   "cell_type": "markdown",
   "metadata": {},
   "source": [
    "\n",
    "Notese que para elevar un dato en Python se trabaja con el Operador **"
   ]
  },
  {
   "cell_type": "code",
   "execution_count": 3,
   "metadata": {},
   "outputs": [
    {
     "data": {
      "text/plain": [
       "float"
      ]
     },
     "execution_count": 3,
     "metadata": {},
     "output_type": "execute_result"
    }
   ],
   "source": [
    "## Identificando de que tipo de dato se trata\n",
    "type(IBM)"
   ]
  },
  {
   "cell_type": "code",
   "execution_count": 4,
   "metadata": {},
   "outputs": [
    {
     "name": "stdout",
     "output_type": "stream",
     "text": [
      "<class 'str'>\n",
      "<class 'int'>\n"
     ]
    }
   ],
   "source": [
    "## Algunos ejemplos sencillos\n",
    "\n",
    "Nombre = 'No se que'\n",
    "dia = 5\n",
    "print(type(Nombre))\n",
    "print(type(dia))"
   ]
  },
  {
   "cell_type": "markdown",
   "metadata": {},
   "source": [
    "\n",
    "De la anterior manera podrá verificar con que tipo de datos se trabaja"
   ]
  },
  {
   "cell_type": "code",
   "execution_count": 5,
   "metadata": {},
   "outputs": [
    {
     "data": {
      "text/plain": [
       "'Alicia'"
      ]
     },
     "execution_count": 5,
     "metadata": {},
     "output_type": "execute_result"
    }
   ],
   "source": [
    "## Se puede sumar palabras??\n",
    "\n",
    "'Al' + 'icia'"
   ]
  },
  {
   "cell_type": "code",
   "execution_count": 6,
   "metadata": {},
   "outputs": [
    {
     "data": {
      "text/plain": [
       "'WilliamROZO'"
      ]
     },
     "execution_count": 6,
     "metadata": {},
     "output_type": "execute_result"
    }
   ],
   "source": [
    "'William' + 'ROZO'"
   ]
  },
  {
   "cell_type": "markdown",
   "metadata": {},
   "source": [
    "<b> Tipo de datos</b>\n",
    "- float: Números reales<br>\n",
    "- int: Números enteros<br>\n",
    "- bool: Verdad/Falso<br>\n",
    "- str: strings o textos<br>"
   ]
  },
  {
   "cell_type": "code",
   "execution_count": 7,
   "metadata": {},
   "outputs": [
    {
     "name": "stdout",
     "output_type": "stream",
     "text": [
      "[1, 2, 3, 4, 5, 6, 7]\n",
      "<class 'list'>\n"
     ]
    }
   ],
   "source": [
    "lista = [1,2,3,4,5,6,7]\n",
    "print(lista)\n",
    "print(type(lista))"
   ]
  },
  {
   "cell_type": "code",
   "execution_count": 8,
   "metadata": {},
   "outputs": [
    {
     "name": "stdout",
     "output_type": "stream",
     "text": [
      "['Lunes', 8]\n",
      "<class 'list'>\n"
     ]
    }
   ],
   "source": [
    "## Las listas pueden combinar distintos tipos de factores\n",
    "lista_combinada = ['Lunes',8]\n",
    "print(lista_combinada)\n",
    "print(type(lista_combinada))"
   ]
  },
  {
   "cell_type": "code",
   "execution_count": 9,
   "metadata": {},
   "outputs": [
    {
     "name": "stdout",
     "output_type": "stream",
     "text": [
      "<class 'str'> primer elemento de la lista\n",
      "<class 'int'> Segundo elemento de la lista\n"
     ]
    }
   ],
   "source": [
    "## Si evaluamos los elementos de la lista\n",
    "print(type(lista_combinada[0]), 'primer elemento de la lista')\n",
    "print(type(lista_combinada[1]),'Segundo elemento de la lista')"
   ]
  },
  {
   "cell_type": "code",
   "execution_count": 10,
   "metadata": {},
   "outputs": [
    {
     "data": {
      "text/plain": [
       "[0, 2, 4, 6, 8, 10]"
      ]
     },
     "execution_count": 10,
     "metadata": {},
     "output_type": "execute_result"
    }
   ],
   "source": [
    "## ¿Qué pasaría si hago esto?\n",
    "list(range(0,11,2))"
   ]
  },
  {
   "cell_type": "code",
   "execution_count": 11,
   "metadata": {},
   "outputs": [
    {
     "data": {
      "text/plain": [
       "10"
      ]
     },
     "execution_count": 11,
     "metadata": {},
     "output_type": "execute_result"
    }
   ],
   "source": [
    "A = list(range(0,11,2))\n",
    "A[-1]"
   ]
  },
  {
   "cell_type": "code",
   "execution_count": 12,
   "metadata": {},
   "outputs": [
    {
     "data": {
      "text/plain": [
       "[4, 6]"
      ]
     },
     "execution_count": 12,
     "metadata": {},
     "output_type": "execute_result"
    }
   ],
   "source": [
    "A = list(range(0,11,2))\n",
    "A[2:4]"
   ]
  },
  {
   "cell_type": "code",
   "execution_count": 13,
   "metadata": {},
   "outputs": [
    {
     "data": {
      "text/plain": [
       "6"
      ]
     },
     "execution_count": 13,
     "metadata": {},
     "output_type": "execute_result"
    }
   ],
   "source": [
    "len(A)"
   ]
  },
  {
   "cell_type": "code",
   "execution_count": 14,
   "metadata": {},
   "outputs": [
    {
     "name": "stdout",
     "output_type": "stream",
     "text": [
      "[0, 2, 4, 6, 8, 12]\n"
     ]
    }
   ],
   "source": [
    "## Anexando un cambio a un elemento a la lista\n",
    "A[5] = 12\n",
    "print(A)"
   ]
  },
  {
   "cell_type": "code",
   "execution_count": 15,
   "metadata": {},
   "outputs": [
    {
     "name": "stdout",
     "output_type": "stream",
     "text": [
      "[0, 2, 4, 6, 8, 12, 'No se aceptan trabajos después de las 11:59', 'a.m', 13]\n"
     ]
    }
   ],
   "source": [
    "## Agregando elementos a la Lista\n",
    "B  = ['No se aceptan trabajos después de las 11:59', 'a.m',13]\n",
    "C = A + B\n",
    "print(C)"
   ]
  },
  {
   "cell_type": "code",
   "execution_count": 16,
   "metadata": {},
   "outputs": [
    {
     "name": "stdout",
     "output_type": "stream",
     "text": [
      "[2, 4, 6, 8, 12]\n"
     ]
    }
   ],
   "source": [
    "## ¿Qué pasaría si hago esto?\n",
    "del(A[0])\n",
    "print(A)"
   ]
  },
  {
   "cell_type": "code",
   "execution_count": 17,
   "metadata": {},
   "outputs": [
    {
     "name": "stdout",
     "output_type": "stream",
     "text": [
      "['Karen', 'Felipe', 'Valentina', 'F', 'Tortuga']\n"
     ]
    }
   ],
   "source": [
    "## Veamos otros tratamientos a la lista\n",
    "x = ['Karen','Felipe','Valentina','F','Tortuga']\n",
    "y = list(x)\n",
    "print(y)"
   ]
  },
  {
   "cell_type": "code",
   "execution_count": 18,
   "metadata": {},
   "outputs": [
    {
     "data": {
      "text/plain": [
       "'Felipe'"
      ]
     },
     "execution_count": 18,
     "metadata": {},
     "output_type": "execute_result"
    }
   ],
   "source": [
    "y_1 = x[:]\n",
    "y_1[1]"
   ]
  },
  {
   "cell_type": "code",
   "execution_count": 19,
   "metadata": {},
   "outputs": [
    {
     "name": "stdout",
     "output_type": "stream",
     "text": [
      "Karen\n",
      "Felipe\n",
      "Valentina\n",
      "F\n",
      "Tortuga\n"
     ]
    }
   ],
   "source": [
    "## Qué pasaría si?\n",
    "for i in y : # Leasé: por cada elemento de Y (llamado i)\n",
    "    print(i) # Imprima el valor de i"
   ]
  },
  {
   "cell_type": "code",
   "execution_count": 20,
   "metadata": {},
   "outputs": [
    {
     "name": "stdout",
     "output_type": "stream",
     "text": [
      "El individuo de esta lista se llama:Karen\n",
      "El individuo de esta lista se llama:Felipe\n",
      "El individuo de esta lista se llama:Valentina\n",
      "El individuo de esta lista se llama:F\n",
      "El individuo de esta lista se llama:Tortuga\n"
     ]
    }
   ],
   "source": [
    "## Ajustando un poco el ciclo\n",
    "for i in y :\n",
    "    A = 'El individuo de esta lista se llama:'\n",
    "    print(A + i)"
   ]
  },
  {
   "cell_type": "code",
   "execution_count": 21,
   "metadata": {},
   "outputs": [
    {
     "name": "stdout",
     "output_type": "stream",
     "text": [
      "El cuadrado del elemento 0  es 0\n",
      "El cuadrado del elemento 1  es 1\n",
      "El cuadrado del elemento 2  es 4\n",
      "El cuadrado del elemento 3  es 9\n",
      "El cuadrado del elemento 4  es 16\n",
      "El cuadrado del elemento 5  es 25\n",
      "El cuadrado del elemento 6  es 36\n",
      "El cuadrado del elemento 7  es 49\n",
      "El cuadrado del elemento 8  es 64\n",
      "El cuadrado del elemento 9  es 81\n"
     ]
    }
   ],
   "source": [
    "for i in range(10):\n",
    "    print('El cuadrado del elemento', i,' es', i**2)"
   ]
  },
  {
   "cell_type": "code",
   "execution_count": 22,
   "metadata": {},
   "outputs": [
    {
     "name": "stdout",
     "output_type": "stream",
     "text": [
      "Este número no es divisible es igual a 5 0\n",
      "Este número no es divisible es igual a 5 1\n",
      "Este número no es divisible es igual a 5 2\n",
      "Este número no es divisible es igual a 5 3\n",
      "Este número no es divisible es igual a 5 4\n",
      "Este número no es divisible es igual a 5 5\n",
      "Este número es igual a cinco 5\n",
      "Este número no es divisible es igual a 5 6\n",
      "Este número no es divisible es igual a 5 7\n",
      "Este número no es divisible es igual a 5 8\n",
      "Este número no es divisible es igual a 5 9\n"
     ]
    }
   ],
   "source": [
    "## Jugando un poco con el for \n",
    "for i in range(10):\n",
    "    print('Este número no es divisible es igual a 5', i)\n",
    "    if i==5:\n",
    "        print('Este número es igual a cinco',5)"
   ]
  },
  {
   "cell_type": "code",
   "execution_count": 23,
   "metadata": {},
   "outputs": [
    {
     "name": "stdout",
     "output_type": "stream",
     "text": [
      "Este # no es divisible por dos:  0\n",
      "Este # no es divisible por dos:  1\n",
      "Este # no es divisible por dos:  3\n",
      "Este # no es divisible por dos:  5\n",
      "Este # no es divisible por dos:  7\n",
      "Este # no es divisible por dos:  9\n"
     ]
    }
   ],
   "source": [
    "lista = list(range(10))\n",
    "for i in lista:\n",
    "    if i %2 != 0:\n",
    "        lista.remove(i)\n",
    "    print('Este # no es divisible por dos: ', i)"
   ]
  },
  {
   "cell_type": "code",
   "execution_count": 24,
   "metadata": {},
   "outputs": [
    {
     "name": "stdout",
     "output_type": "stream",
     "text": [
      "Este #  es divisible por dos:  0\n",
      "Este #  es divisible por dos:  2\n",
      "Este #  es divisible por dos:  6\n",
      "Este #  es divisible por dos:  8\n"
     ]
    }
   ],
   "source": [
    "lista = list(range(10))\n",
    "for i in lista:\n",
    "    if i %2 == 0:\n",
    "        lista.remove(i)\n",
    "    if i == 4:\n",
    "        continue\n",
    "    print('Este #  es divisible por dos: ', i)"
   ]
  },
  {
   "cell_type": "code",
   "execution_count": 25,
   "metadata": {},
   "outputs": [
    {
     "name": "stdout",
     "output_type": "stream",
     "text": [
      "Este #  es divisible por dos:  0\n",
      "Este #  es divisible por dos:  2\n",
      "Este #  es divisible por dos:  16\n",
      "Este #  es divisible por dos:  6\n",
      "Este #  es divisible por dos:  8\n"
     ]
    }
   ],
   "source": [
    "lista = list(range(10))\n",
    "for i in lista:\n",
    "    if i %2 == 0:\n",
    "        lista.remove(i)\n",
    "    if i == 4:\n",
    "         i=i**2\n",
    "    print('Este #  es divisible por dos: ', i)"
   ]
  },
  {
   "cell_type": "markdown",
   "metadata": {},
   "source": [
    "# Tarea, hasta aca todo bien."
   ]
  }
 ],
 "metadata": {
  "interpreter": {
   "hash": "b3ba2566441a7c06988d0923437866b63cedc61552a5af99d1f4fb67d367b25f"
  },
  "kernelspec": {
   "display_name": "Python 3.8.8 64-bit ('base': conda)",
   "language": "python",
   "name": "python3"
  },
  "language_info": {
   "codemirror_mode": {
    "name": "ipython",
    "version": 3
   },
   "file_extension": ".py",
   "mimetype": "text/x-python",
   "name": "python",
   "nbconvert_exporter": "python",
   "pygments_lexer": "ipython3",
   "version": "3.8.8"
  },
  "orig_nbformat": 4
 },
 "nbformat": 4,
 "nbformat_minor": 2
}
