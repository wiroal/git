{
 "cells": [
  {
   "cell_type": "markdown",
   "metadata": {},
   "source": [
    "# Video 9: Variables"
   ]
  },
  {
   "cell_type": "code",
   "execution_count": 3,
   "metadata": {},
   "outputs": [
    {
     "name": "stdout",
     "output_type": "stream",
     "text": [
      "3\n",
      "11\n"
     ]
    }
   ],
   "source": [
    "#Creando variables\n",
    "numero = 3\n",
    "print (numero)\n",
    "\n",
    "numero1 = 11\n",
    "print (numero1)"
   ]
  },
  {
   "cell_type": "code",
   "execution_count": 4,
   "metadata": {},
   "outputs": [
    {
     "name": "stdout",
     "output_type": "stream",
     "text": [
      "14\n"
     ]
    }
   ],
   "source": [
    "# sumar variables\n",
    "numero_resultado = numero + numero1\n",
    "print (numero_resultado)"
   ]
  },
  {
   "cell_type": "markdown",
   "metadata": {},
   "source": [
    "# OBJETOS: VIDEO 10"
   ]
  },
  {
   "cell_type": "code",
   "execution_count": 9,
   "metadata": {},
   "outputs": [
    {
     "name": "stdout",
     "output_type": "stream",
     "text": [
      "William Rozo\n"
     ]
    }
   ],
   "source": [
    "# tipos de datos\n",
    "nombre = \"William Rozo\" #todo lo que esté entre comillas esa texto\n",
    "print (nombre)\n"
   ]
  },
  {
   "cell_type": "code",
   "execution_count": null,
   "metadata": {},
   "outputs": [],
   "source": [
    "\n",
    "#Podemos multiplicar \n",
    "nombre * 4"
   ]
  },
  {
   "cell_type": "code",
   "execution_count": null,
   "metadata": {},
   "outputs": [],
   "source": [
    "# numero decimal\n",
    "numero_decimal = 3.4"
   ]
  },
  {
   "cell_type": "code",
   "execution_count": 10,
   "metadata": {},
   "outputs": [
    {
     "name": "stdout",
     "output_type": "stream",
     "text": [
      "True\n"
     ]
    }
   ],
   "source": [
    "# Boelanos\n",
    "es_estudiante = True\n",
    "print (es_estudiante)"
   ]
  },
  {
   "cell_type": "code",
   "execution_count": 1,
   "metadata": {},
   "outputs": [
    {
     "name": "stdout",
     "output_type": "stream",
     "text": [
      "Tienes $12.89 dólares\n"
     ]
    }
   ],
   "source": [
    "# Conversor de monedas\n",
    "\n",
    "def conversor(tipo_pesos, valor_dolar):\n",
    "    pesos = input(\"¿Cuántos pesos \" + tipo_pesos + \" tienes?: \")\n",
    "    pesos = float(pesos)\n",
    "    dolares = pesos / valor_dolar\n",
    "    dolares = round(dolares, 2)\n",
    "    dolares = str(dolares)\n",
    "    print(\"Tienes $\" + dolares + \" dólares\")\n",
    "\n",
    "\n",
    "menu = \"\"\"\n",
    "Bienvenido al conversor de monedas 💰\n",
    "\n",
    "1 - Pesos colombianos\n",
    "2 - Pesos argentinos\n",
    "3 - Pesos mexicanos\n",
    "\n",
    "Elige una opción: \"\"\"\n",
    "\n",
    "opcion = int(input(menu))\n",
    "\n",
    "if opcion == 1:\n",
    "    conversor(\"colombianos\", 3879)\n",
    "elif opcion == 2:\n",
    "    conversor(\"argentinos\", 65)\n",
    "elif opcion == 3:\n",
    "    conversor(\"mexicanos\", 24)\n",
    "else:\n",
    "    print('Ingresa una opción correcta por favor')"
   ]
  }
 ],
 "metadata": {
  "interpreter": {
   "hash": "b3ba2566441a7c06988d0923437866b63cedc61552a5af99d1f4fb67d367b25f"
  },
  "kernelspec": {
   "display_name": "Python 3.8.8 64-bit ('base': conda)",
   "language": "python",
   "name": "python3"
  },
  "language_info": {
   "codemirror_mode": {
    "name": "ipython",
    "version": 3
   },
   "file_extension": ".py",
   "mimetype": "text/x-python",
   "name": "python",
   "nbconvert_exporter": "python",
   "pygments_lexer": "ipython3",
   "version": "3.8.8"
  },
  "orig_nbformat": 4
 },
 "nbformat": 4,
 "nbformat_minor": 2
}
